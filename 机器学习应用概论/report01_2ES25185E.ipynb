{
 "cells": [
  {
   "cell_type": "markdown",
   "metadata": {},
   "source": [
    "問題１  \n",
    "内包表記を使って０から９９までを持つリストtest_listを作成してください。\n",
    "\n",
    "Problem 1  \n",
    "Create a list test_list with numbers from 0 to 99 using list comprehension."
   ]
  },
  {
   "cell_type": "code",
   "execution_count": null,
   "metadata": {},
   "outputs": [
    {
     "name": "stdout",
     "output_type": "stream",
     "text": [
      "[0, 1, 2, 3, 4, 5, 6, 7, 8, 9, 10, 11, 12, 13, 14, 15, 16, 17, 18, 19, 20, 21, 22, 23, 24, 25, 26, 27, 28, 29, 30, 31, 32, 33, 34, 35, 36, 37, 38, 39, 40, 41, 42, 43, 44, 45, 46, 47, 48, 49, 50, 51, 52, 53, 54, 55, 56, 57, 58, 59, 60, 61, 62, 63, 64, 65, 66, 67, 68, 69, 70, 71, 72, 73, 74, 75, 76, 77, 78, 79, 80, 81, 82, 83, 84, 85, 86, 87, 88, 89, 90, 91, 92, 93, 94, 95, 96, 97, 98, 99]\n"
     ]
    }
   ],
   "source": [
    "test_list = [i for i in range(100)]\n",
    "#print(test_list)"
   ]
  },
  {
   "cell_type": "markdown",
   "metadata": {},
   "source": [
    "問題２  \n",
    "スライスを使って、リストtest_listから５の倍数を**昇順**（小さいから大きい値への順番)に抜き出してください。\n",
    "\n",
    "Problem 2  \n",
    "Use slicing to extract multiples of 5 from list test_list in ascending order."
   ]
  },
  {
   "cell_type": "code",
   "execution_count": null,
   "metadata": {},
   "outputs": [
    {
     "name": "stdout",
     "output_type": "stream",
     "text": [
      "[0, 5, 10, 15, 20, 25, 30, 35, 40, 45, 50, 55, 60, 65, 70, 75, 80, 85, 90, 95]\n"
     ]
    }
   ],
   "source": [
    "# まず、test_list が存在することを確認します（問題1で作成したもの）\n",
    "\n",
    "# スライスを使って5の倍数を抽出する\n",
    "multiples_of_5 = test_list[::5]\n",
    "print(multiples_of_5)"
   ]
  },
  {
   "cell_type": "markdown",
   "metadata": {},
   "source": [
    "問題３  \n",
    "スライスを使って、リストtest_listから７の倍数を**降順**(大きい値から小さい値への順番)に抜き出してください。\n",
    "\n",
    "Problem 3  \n",
    "Use slicing to extract multiples of 7 from list test_list in descending order."
   ]
  },
  {
   "cell_type": "code",
   "execution_count": null,
   "metadata": {},
   "outputs": [
    {
     "name": "stdout",
     "output_type": "stream",
     "text": [
      "[98, 91, 84, 77, 70, 63, 56, 49, 42, 35, 28, 21, 14, 7, 0]\n"
     ]
    }
   ],
   "source": [
    "# スライスを使って7の倍数を抽出し、降順に並べる\n",
    "# test_list[98::-7] はインデックス98から始まり、ステップ-7で先頭まで値を取得する\n",
    "# 98 は test_list の中で最後の7の倍数（7×14）のインデックス\n",
    "multiples_of_7_descending = test_list[98::-7]\n",
    "\n",
    "# 結果を出力\n",
    "print(multiples_of_7_descending)"
   ]
  },
  {
   "cell_type": "markdown",
   "metadata": {},
   "source": [
    "問題４  \n",
    "numpyを使って、平均値ゼロ標準偏差１の標準正規分布となる乱数を100こ作成して、その配列をrnd_listとしてください。\n",
    "\n",
    "Problem 4  \n",
    "Use numpy to create 100 random numbers that have a standard normal distribution with a mean of zero and a standard deviation of 1, and set the array as rnd_list."
   ]
  },
  {
   "cell_type": "code",
   "execution_count": 13,
   "metadata": {},
   "outputs": [
    {
     "name": "stdout",
     "output_type": "stream",
     "text": [
      "[ 0.94125164 -0.12823732 -0.65508465 -0.00826718  0.52144321  0.41910826\n",
      "  1.32777819  0.48593876  2.79814665  0.85742373 -0.91682382 -1.92397583\n",
      " -0.14014453  1.27607334  1.48654599 -0.87331592  0.89009706 -1.7404749\n",
      " -1.29695983 -1.80454313  0.20627839 -1.12561679  0.06556462  1.50880515\n",
      "  0.56460103 -1.81067348 -0.85892308 -0.4628999   0.55084781 -2.24699932\n",
      "  0.13131995 -2.47491653  0.25410166  1.29531621  0.12137442  0.0055825\n",
      "  1.14261243 -0.45761133  0.69402848 -0.12122814 -0.41741072  0.29255707\n",
      " -1.47969591  0.02288526  0.10490574  0.96183693  1.54073574 -0.37560419\n",
      " -0.03310315 -0.89194809 -0.44860811  0.49439364 -0.45780862 -0.2441091\n",
      "  0.79174562  0.65959869  0.36331771 -1.37274061  0.36701103 -1.50254331\n",
      "  1.633938    1.17252932 -1.16504596 -0.03274655 -1.07349518  0.28188056\n",
      "  1.35457485 -0.86330582 -1.14286999  0.5833251  -0.47236436 -0.64407023\n",
      "  0.07936899  0.87869677  0.33520215 -1.22400366 -0.10720821 -0.11802418\n",
      "  0.96826739 -0.03709707  2.0984796   0.26008589  0.70787     1.66216125\n",
      "  0.9301777   0.83475702  0.10280959 -0.08877813 -0.10927695 -0.65502731\n",
      "  0.0131172   0.78571127  0.6104853   0.15601606  1.24684783 -0.13432821\n",
      " -0.08617619  2.50622377 -1.25314769 -0.74612064]\n"
     ]
    }
   ],
   "source": [
    "# numpy ライブラリをインポート、通常は np として省略される\n",
    "import numpy as np\n",
    "\n",
    "# numpy.random.randn() を使って100個の乱数を生成\n",
    "# これらの乱数は標準正規分布（平均0、標準偏差1）に従う\n",
    "rnd_list = np.random.randn(100)\n",
    "\n",
    "# 生成された numpy 配列を出力\n",
    "print(rnd_list)"
   ]
  },
  {
   "cell_type": "markdown",
   "metadata": {},
   "source": [
    "問題５  \n",
    "rnd_listの平均値と標準偏差を求めてください。\n",
    "\n",
    "Problem 5  \n",
    "Find the mean and standard deviation of rnd_list."
   ]
  },
  {
   "cell_type": "code",
   "execution_count": 15,
   "metadata": {},
   "outputs": [
    {
     "name": "stdout",
     "output_type": "stream",
     "text": [
      "平均値 (Mean): 0.06122398685334643\n",
      "標準偏差 (Standard Deviation): 1.0089074291144595\n"
     ]
    }
   ],
   "source": [
    "# rnd_list が存在することを確認 (問題4で生成)\n",
    "# 未定義または別環境では以下を有効に:\n",
    "# import numpy as np\n",
    "# rnd_list = np.random.randn(100)\n",
    "\n",
    "# 平均\n",
    "mean_rnd = np.mean(rnd_list)\n",
    "# 標準偏差\n",
    "std_dev_rnd = np.std(rnd_list)\n",
    "\n",
    "# 結果表示\n",
    "print(f\"平均値 (Mean): {mean_rnd}\")\n",
    "print(f\"標準偏差 (Standard Deviation): {std_dev_rnd}\")\n"
   ]
  },
  {
   "cell_type": "markdown",
   "metadata": {},
   "source": [
    "問題６  \n",
    "rnd_listを１０行１０列の行列に変換してrnd_matとして、そのサイズを表示させて１０行１０列であることを確認してください。\n",
    "\n",
    "Problem 6  \n",
    "Convert rnd_list to a matrix of 10 rows and 10 columns as rnd_mat and display its size to check."
   ]
  },
  {
   "cell_type": "code",
   "execution_count": 17,
   "metadata": {},
   "outputs": [
    {
     "name": "stdout",
     "output_type": "stream",
     "text": [
      "rnd_mat 的尺寸 (Shape):\n",
      "(10, 10)\n"
     ]
    }
   ],
   "source": [
    "# 将 rnd_list (包含100个元素) 重塑为 10x10 的矩阵\n",
    "rnd_mat = rnd_list.reshape(10, 10)\n",
    "\n",
    "# 显示 rnd_mat 的尺寸 (形状)\n",
    "print(\"rnd_mat 的尺寸 (Shape):\")\n",
    "print(rnd_mat.shape)\n",
    "\n",
    "# print(\"rnd_mat 矩阵:\")\n",
    "# print(rnd_mat)"
   ]
  },
  {
   "cell_type": "markdown",
   "metadata": {},
   "source": [
    "問題７  \n",
    "rnd_matの逆行列を求め、その行列とrnd_matの行列積を取った時に単位行列となることを確認してください。  \n",
    "必要なら微小な値を無視する関数round_npを使用してください。\n",
    "\n",
    "Problem 7  \n",
    "Find the inverse matrix of rnd_mat and check that the matrix product of that matrix and rnd_mat yields a unit matrix.  \n",
    "If necessary, use the round_np function to ignore small values."
   ]
  },
  {
   "cell_type": "code",
   "execution_count": 22,
   "metadata": {},
   "outputs": [],
   "source": [
    "# 微小な値を無視する関数の定義\n",
    "def round_np(nparray):\n",
    "    sh = nparray.shape\n",
    "    res = np.array( # 小数点10桁で四捨五入\n",
    "        [round(e, 10) for e in nparray.reshape(-1)]\n",
    "        )\n",
    "    return res.reshape(sh)"
   ]
  },
  {
   "cell_type": "code",
   "execution_count": 23,
   "metadata": {},
   "outputs": [
    {
     "name": "stdout",
     "output_type": "stream",
     "text": [
      "逆行列と元の行列の積 (round_np 後):\n",
      "[[ 1. -0. -0.  0.  0. -0.  0. -0. -0.  0.]\n",
      " [-0.  1.  0. -0. -0. -0. -0.  0.  0. -0.]\n",
      " [-0. -0.  1.  0.  0.  0. -0. -0.  0. -0.]\n",
      " [ 0.  0.  0.  1. -0. -0. -0.  0.  0.  0.]\n",
      " [ 0. -0. -0.  0.  1.  0.  0. -0. -0. -0.]\n",
      " [-0.  0. -0. -0.  0.  1.  0. -0. -0.  0.]\n",
      " [-0. -0.  0. -0. -0. -0.  1.  0. -0. -0.]\n",
      " [ 0.  0. -0. -0. -0.  0.  0.  1.  0.  0.]\n",
      " [-0. -0.  0.  0.  0. -0. -0.  0.  1. -0.]\n",
      " [ 0.  0. -0. -0. -0.  0. -0. -0. -0.  1.]]\n"
     ]
    }
   ],
   "source": [
    "# round_np 関数を定義済みとする\n",
    "# rnd_mat が存在することを確認 (問題6で生成)\n",
    "\n",
    "# 逆行列を計算\n",
    "# np.linalg.inv() で求める\n",
    "try:\n",
    "    rnd_mat_inv = np.linalg.inv(rnd_mat)\n",
    "\n",
    "    # 元の行列と逆行列の積\n",
    "    identity_check = rnd_mat_inv @ rnd_mat\n",
    "\n",
    "    # 誤差除去のため round_np 処理\n",
    "    identity_check_rounded = round_np(identity_check)\n",
    "\n",
    "    # 結果表示\n",
    "    print(\"逆行列と元の行列の積 (round_np 後):\")\n",
    "    print(identity_check_rounded)\n",
    "\n",
    "except np.linalg.LinAlgError:\n",
    "    # 逆行列が存在しない場合\n",
    "    print(\"エラー: rnd_mat は特異行列で逆行列なし。\")\n",
    "    # この場合は以降の処理不可\n"
   ]
  },
  {
   "cell_type": "markdown",
   "metadata": {},
   "source": [
    "問題８  \n",
    "銀行口座を表すクラスを作成して、1000円を預け入れ、500円を引き出し、残高を表示してください。また更に1000円を引き出してください。\n",
    "但し、クラスは下のような仕様を持つものとします。  \n",
    "\n",
    "クラス：  \n",
    "    BankAccount : 銀行口座  \n",
    "属性：  \n",
    "    - owner : 口座名義  \n",
    "    - balance : 残高  \n",
    "メソッド：  \n",
    "    - deposit(amount) : amount円を預け入れる  \n",
    "    - withdraw(amount) : amountを引き出す。残高が足りない場合は\"Insufficient balance\"と表示する。  \n",
    "    - show_balance() : 残高を表示する。   "
   ]
  },
  {
   "cell_type": "code",
   "execution_count": null,
   "metadata": {},
   "outputs": [
    {
     "name": "stdout",
     "output_type": "stream",
     "text": [
      "MyAccount の口座を作成、初期残高: 0円\n",
      "\n",
      "--- 1000円 入金 ---\n",
      "1000円 入金完了\n",
      "現在の残高: 1000円\n",
      "\n",
      "--- 500円 出金 ---\n",
      "500円 出金完了\n",
      "現在の残高: 500円\n",
      "\n",
      "--- 1000円 出金試行 ---\n",
      "残高不足\n",
      "現在の残高: 500円\n"
     ]
    }
   ],
   "source": [
    "# 銀行口座クラス\n",
    "class BankAccount:\n",
    "    # 初期化\n",
    "    def __init__(self, owner, balance=0):\n",
    "        \"\"\"\n",
    "        :param owner: 口座名義人 (文字列)\n",
    "        :param balance: 初期残高 (デフォルト0)\n",
    "        \"\"\"\n",
    "        self.owner = owner\n",
    "        self.balance = balance\n",
    "        print(f\"{self.owner} の口座を作成、初期残高: {self.balance}円\")\n",
    "\n",
    "    # 入金\n",
    "    def deposit(self, amount):\n",
    "        \"\"\"\n",
    "        :param amount: 入金額 (正数)\n",
    "        \"\"\"\n",
    "        if amount > 0:\n",
    "            self.balance += amount\n",
    "            print(f\"{amount}円 入金完了\")\n",
    "            self.show_balance()\n",
    "        else:\n",
    "            print(\"入金は正の数のみ\")\n",
    "\n",
    "    # 出金\n",
    "    def withdraw(self, amount):\n",
    "        \"\"\"\n",
    "        :param amount: 出金額 (正数)\n",
    "        \"\"\"\n",
    "        if amount <= 0:\n",
    "            print(\"出金は正の数のみ\")\n",
    "        elif self.balance >= amount:\n",
    "            self.balance -= amount\n",
    "            print(f\"{amount}円 出金完了\")\n",
    "            self.show_balance()\n",
    "        else:\n",
    "            print(\"残高不足\")\n",
    "            self.show_balance()\n",
    "\n",
    "    # 残高表示\n",
    "    def show_balance(self):\n",
    "        print(f\"現在の残高: {self.balance}円\")\n",
    "\n",
    "# --- 処理実行 ---\n",
    "\n",
    "# 1. 口座作成\n",
    "my_account = BankAccount(\"MyAccount\")\n",
    "\n",
    "# 2. 1000円 入金\n",
    "print(\"\\n--- 1000円 入金 ---\")\n",
    "my_account.deposit(1000)\n",
    "\n",
    "# 3. 500円 出金\n",
    "print(\"\\n--- 500円 出金 ---\")\n",
    "my_account.withdraw(500)\n",
    "\n",
    "# 4. 1000円 出金 (失敗)\n",
    "print(\"\\n--- 1000円 出金試行 ---\")\n",
    "my_account.withdraw(1000)\n"
   ]
  }
 ],
 "metadata": {
  "kernelspec": {
   "display_name": "Python 3",
   "language": "python",
   "name": "python3"
  },
  "language_info": {
   "codemirror_mode": {
    "name": "ipython",
    "version": 3
   },
   "file_extension": ".py",
   "mimetype": "text/x-python",
   "name": "python",
   "nbconvert_exporter": "python",
   "pygments_lexer": "ipython3",
   "version": "3.10.0"
  }
 },
 "nbformat": 4,
 "nbformat_minor": 2
}
